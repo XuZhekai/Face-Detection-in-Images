{
 "cells": [
  {
   "cell_type": "code",
   "execution_count": 1,
   "metadata": {},
   "outputs": [],
   "source": [
    "import cv2\n",
    "import numpy as np\n",
    "from skimage import io\n",
    "import os,glob,numpy\n",
    "#匯入方法"
   ]
  },
  {
   "cell_type": "code",
   "execution_count": 2,
   "metadata": {},
   "outputs": [],
   "source": [
    "#檔案路徑\n",
    "yourPath = 'images/'\n",
    "allFileList = os.listdir(yourPath)\n",
    "P=[]\n",
    "fet=[]\n",
    "for file in allFileList:\n",
    "    if os.path.isdir(os.path.join(yourPath,file)):\n",
    "        fet.append(file) #資料夾名稱\n",
    "    else:\n",
    "        P.append(file) #除了資料夾以外的照片名稱"
   ]
  },
  {
   "cell_type": "code",
   "execution_count": 13,
   "metadata": {},
   "outputs": [
    {
     "name": "stdout",
     "output_type": "stream",
     "text": [
      "['1128022.jpg', '1194025.jpg', '1211042.jpg', '1255046.jpg', '1279015.jpg', '1406034.jpg', '1414095.jpg', '1612017.jpg', '1616045.jpg', '1834014.jpg', '1863028.jpg', '1963029.jpg', '2033014.jpg', '2124025.jpg', '2257024.jpg', '2321023.jpg', '2520020.jpg', '2569015.jpg', '2583015.jpg', '2593011.jpg', '2766023.jpg', '2835026.jpg', '2860014.jpg', '2881034.jpg', '2897019.jpg', '3009018.jpg', '3127038.jpg', '3369014.jpg', '3375021.jpg', '3426020.jpg', '3458026.jpg', '3499020.jpg', '3522016.jpg', '3565018.jpg', '3585044.jpg', '3747038.jpg', '3778031.jpg', '3812024.jpg', '3820031.jpg', '3837038.jpg', '3841020.jpg', '3955027.jpg', '4005026.jpg', '4049016.jpg', '4118016.jpg', '4277039.jpg', '4318014.jpg', '4320022.jpg', '4414041.jpg', '4580039.jpg', '4961015.jpg', '5010051.jpg', '5026012.jpg', '5045020.jpg', '5121011.jpg', '5183017.jpg', '5219016.jpg', '5293018.jpg', '5419018.jpg', '5523035.jpg', '5623023.jpg', '5675023.jpg', '5687019.jpg', '5839013.jpg', '5878016.jpg', '5937041.jpg', '6051013.jpg', '6071012.jpg', '6493053.jpg', '6520030.jpg', '6578017.jpg', '6929012.jpg', '7073029.jpg', '7083017.jpg', '7121051.jpg', '7127034.jpg', '7165018.jpg', '7203019.jpg', '7223019.jpg', '7403024.jpg', '7410026.jpg', '7419018.jpg', '7458016.jpg', '7488053.jpg', '7565017.jpg', '7583012.jpg', '7623022.jpg', '7629016.jpg', '7742017.jpg', '7771014.jpg', '7815071.jpg', '7824023.jpg', '7976014.jpg', '8058012.jpg', '8181045.jpg', '8199036.jpg', '8219020.jpg', '8362015.jpg', '8801015.jpg', '8996053.jpg']\n"
     ]
    }
   ],
   "source": [
    "print(fet)"
   ]
  },
  {
   "cell_type": "code",
   "execution_count": 14,
   "metadata": {},
   "outputs": [
    {
     "name": "stdout",
     "output_type": "stream",
     "text": [
      "['5498592', '5513628', '5540978', '5544358', '5549723', '5553911', '5554445', '5559534', '5559738', '5562809', '5569034', '5569981', '5583008', '5586718', '5587543', '5592004', '5597972', '5604363', '5605786', '5613764', '5617665', '5621307', '5625014', '5629608', '5630205', '5652218', '5655015', '5657590', '5664432', '5666714', '5675606', '5680642', '5681403', '5681882', '5693349', '5694385', '5702934', '5713413', '5725535', '5725655', '5728349', '5734180', '5743918', '5768706', '5786096', '5801165', '5803970', '5804957', '5809867', '5811827', '5831542', '5847762', '5861947', '5873163', '5873274', '5875151', '5902240', '5903584', '5908190', '5911712', '5928307', '5934349', '5937337', '5942362', '5949163', '5961035', '5971068', '5997749', '6002497', '6031709', '6039617', '6062003', '6074154', '6079503', '6109225', '6121003', '6152976', '6166434', '6188016', '6189742', '6212900', '6219361', '6230258', '6234845', '6249350', '6252408', '6266630', '6293841', '6304911', '6305385', '6317420', '6353801', '6383100', '6392685', '6418193', '6432391', '6487924', '6489352', '6549862', '6573530']\n"
     ]
    }
   ],
   "source": [
    "print(P)"
   ]
  },
  {
   "cell_type": "code",
   "execution_count": 3,
   "metadata": {},
   "outputs": [],
   "source": [
    "\n",
    "\n",
    "# Load the cascade\n",
    "face_cascade = cv2.CascadeClassifier('haarcascade_frontalface_default.xml') #載入cascade分類器以識別人臉\n",
    "# Read the input image\n",
    "for i in range(len(P)):\n",
    "    img = cv2.imread(yourPath+P[i]) #讀取照片\n",
    "\n",
    "# Convert into grayscale\n",
    "    gray = cv2.cvtColor(img, cv2.COLOR_BGR2GRAY) #轉灰階\n",
    "# Detect faces\n",
    "\n",
    "    faces = face_cascade.detectMultiScale(gray, 1.8, 4) #識別人臉\n",
    "# Draw rectangle around the faces\n",
    "    for (x, y, w, h) in faces: #繪製人臉範圍\n",
    "        cv2.rectangle(img, (x, y), (x+w, y+h), (255, 0, 0), 2)\n",
    "\n",
    "\n",
    "    crop_img=img[y+2:y+h-1,x+2:x+w-1]\n",
    "    \n",
    "    cv2.imwrite('text/'+P[i],crop_img) #將繪製好的人臉輸出成jpg檔\n"
   ]
  },
  {
   "cell_type": "code",
   "execution_count": null,
   "metadata": {},
   "outputs": [],
   "source": [
    "cv2.imshow('123',img)\n",
    "cv2.waitKey(0)\n",
    "cv2.destroyAllWindows()"
   ]
  },
  {
   "cell_type": "code",
   "execution_count": null,
   "metadata": {},
   "outputs": [],
   "source": []
  }
 ],
 "metadata": {
  "kernelspec": {
   "display_name": "Python 3",
   "language": "python",
   "name": "python3"
  },
  "language_info": {
   "codemirror_mode": {
    "name": "ipython",
    "version": 3
   },
   "file_extension": ".py",
   "mimetype": "text/x-python",
   "name": "python",
   "nbconvert_exporter": "python",
   "pygments_lexer": "ipython3",
   "version": "3.6.9"
  }
 },
 "nbformat": 4,
 "nbformat_minor": 2
}
