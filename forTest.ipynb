{
 "cells": [
  {
   "cell_type": "code",
   "execution_count": 24,
   "metadata": {},
   "outputs": [],
   "source": [
    "import sys,os,dlib,glob,numpy\n",
    "from skimage import io\n",
    "import cv2\n",
    "import imutils\n",
    "import numpy as np\n",
    "import os\n",
    "import matplotlib.pyplot as plt\n",
    "import pandas as pd"
   ]
  },
  {
   "cell_type": "code",
   "execution_count": 25,
   "metadata": {},
   "outputs": [],
   "source": [
    "#face_cascade = cv2.CascadeClassifier('haarcascade_frontalface_default.xml') 沒用到"
   ]
  },
  {
   "cell_type": "code",
   "execution_count": 26,
   "metadata": {
    "scrolled": true
   },
   "outputs": [],
   "source": [
    "yourPath = 'images/' #讀取路徑\n",
    "imgPath='text/'\n",
    "allFileList = os.listdir(yourPath)\n",
    "allimg = os.listdir(imgPath)\n",
    "fet=[]\n",
    "M=[]\n",
    "for file in allFileList:\n",
    "    if os.path.isdir(os.path.join(yourPath,file)):\n",
    "        fet.append(file)\n",
    "for W in allimg:\n",
    "    M.append(W)"
   ]
  },
  {
   "cell_type": "code",
   "execution_count": 30,
   "metadata": {},
   "outputs": [],
   "source": [
    "### Feature extraction and store #########\n",
    "featList=[]\n",
    "probeList=[]\n",
    "imgList=[]\n",
    "probe_id = []\n",
    "sift = cv2.xfeatures2d.SIFT_create() #載入sift\n",
    "#========= features =================\n",
    "#將人連做特徵擷取\n",
    "for im in M: \n",
    "    gray = cv2.imread(imgPath+im)\n",
    "    gray = cv2.cvtColor(gray, cv2.COLOR_BGR2GRAY)\n",
    "    kps1, des1 = sift.detectAndCompute(gray, None)\n",
    "    featList.append(des1)\n",
    "######################\n",
    "pid = 0\n",
    "#將資料夾內的人臉做特徵擷取\n",
    "for i in range(len(fet)):\n",
    "    X=os.listdir(yourPath+\"/\"+fet[i])\n",
    "    for j in X:\n",
    "        img2 = cv2.imread(yourPath+fet[i]+\"/\"+j)\n",
    "        gray = cv2.cvtColor(img2, cv2.COLOR_BGR2GRAY)\n",
    "        kps2, des2 = sift.detectAndCompute(gray, None)\n",
    "    \n",
    "        probeList.append(des2)\n",
    "        pid = int(os.path.basename(j.replace('.jpg','')))\n",
    "        probe_id.append(pid)\n",
    "    \n",
    "probe_id= np.array(probe_id)"
   ]
  },
  {
   "cell_type": "code",
   "execution_count": 45,
   "metadata": {},
   "outputs": [],
   "source": [
    "Anslist=[]\n",
    "bf = cv2.BFMatcher() #載入BFMatcher\n",
    "# BFMatcher with default params\n",
    "for s in range(100):    \n",
    "    distList= []\n",
    "    for ct, feat in enumerate(probeList):\n",
    "        des1 = featList[s]\n",
    "        des2 = feat\n",
    "        matches = bf.knnMatch(des1,des2, k=2) #用knnMatch做比對\n",
    "        good=[]\n",
    "        for m,n in matches:\n",
    "            if m.distance < 0.85*n.distance:\n",
    "                good.append([m])\n",
    "\n",
    "        total_dist = 0\n",
    "        for m in matches:\n",
    "            total_dist += m[0].distance\n",
    "        if len(matches)>0:\n",
    "            total_dist = total_dist/len(matches)\n",
    "        else:\n",
    "            total_dist = sys.maxint\n",
    "        \n",
    "        distList.append(total_dist)\n",
    "    \n",
    "    \n",
    "    mid = distList.index(min(distList))\n",
    "    count=-1\n",
    "\n",
    "    for i in range(mid+1):\n",
    "        if probe_id[i]==1:\n",
    "            count+=1\n",
    "    \n",
    "    Anslist.append(count)\n"
   ]
  },
  {
   "cell_type": "code",
   "execution_count": 49,
   "metadata": {},
   "outputs": [
    {
     "name": "stdout",
     "output_type": "stream",
     "text": [
      "[81, 10, 98, 94, 62, 76, 63, 68, 43, 86, 76, 65, 76, 76, 47, 65, 34, 65, 7, 90, 76, 65, 76, 76, 91, 59, 76, 76, 83, 81, 39, 61, 76, 99, 6, 75, 10, 13, 30, 76, 76, 65, 76, 0, 12, 79, 40, 47, 76, 76, 81, 79, 10, 48, 53, 31, 18, 76, 81, 12, 76, 81, 76, 76, 84, 74, 76, 33, 82, 41, 81, 55, 76, 81, 12, 76, 76, 76, 65, 47, 98, 80, 67, 10, 65, 76, 37, 81, 4, 26, 81, 36, 76, 10, 3, 69, 80, 87, 81, 95]\n"
     ]
    }
   ],
   "source": [
    "print(Anslist)\n",
    "df = pd.DataFrame(Anslist)\n",
    "\n",
    "df.columns=['Category']\n",
    "df.to_csv(\"C.csv\",index_label='id')"
   ]
  }
 ],
 "metadata": {
  "kernelspec": {
   "display_name": "Python 3",
   "language": "python",
   "name": "python3"
  },
  "language_info": {
   "codemirror_mode": {
    "name": "ipython",
    "version": 3
   },
   "file_extension": ".py",
   "mimetype": "text/x-python",
   "name": "python",
   "nbconvert_exporter": "python",
   "pygments_lexer": "ipython3",
   "version": "3.6.9"
  }
 },
 "nbformat": 4,
 "nbformat_minor": 2
}
